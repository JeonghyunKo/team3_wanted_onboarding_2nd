{
 "cells": [
  {
   "cell_type": "markdown",
   "id": "153448b4",
   "metadata": {},
   "source": [
    "#### 필요 모듈 import"
   ]
  },
  {
   "cell_type": "code",
   "execution_count": 3,
   "id": "22cecae7",
   "metadata": {},
   "outputs": [],
   "source": [
    "import pandas as pd\n",
    "from datetime import datetime "
   ]
  },
  {
   "cell_type": "code",
   "execution_count": 4,
   "id": "8ddc40d9",
   "metadata": {},
   "outputs": [],
   "source": [
    "\n",
    "import matplotlib.pyplot as plt\n",
    "%matplotlib inline\n",
    "\n",
    "from matplotlib import font_manager, rc\n",
    "plt.rcParams['axes.unicode_minus'] = False\n",
    "\n",
    "import platform\n",
    "\n",
    "if platform.system() == 'Windows':\n",
    "    path = \"c:/Windows/Fonts/malgun.ttf\"\n",
    "    font_name = font_manager.FontProperties(fname=path).get_name()\n",
    "    rc('font', family=font_name)\n",
    "elif platform.system() == 'Darwin':\n",
    "    rc('font', family='AppleGothic')\n",
    "elif platform.system() == 'Linux':\n",
    "    rc('font', family='NanumBarunGothic')\n",
    "else:\n",
    "    print('Unknown system... sorry~~')\n",
    "\n",
    "import seaborn as sns"
   ]
  },
  {
   "cell_type": "markdown",
   "id": "17bbfebc",
   "metadata": {},
   "source": [
    "#### 데이터 import "
   ]
  },
  {
   "cell_type": "code",
   "execution_count": 5,
   "id": "387c7ecc",
   "metadata": {},
   "outputs": [],
   "source": [
    "unicorn = pd.read_csv(\"data/company_nps_data.csv\", encoding=\"cp949\")"
   ]
  },
  {
   "cell_type": "code",
   "execution_count": 6,
   "id": "60349400",
   "metadata": {},
   "outputs": [
    {
     "data": {
      "text/html": [
       "<div>\n",
       "<style scoped>\n",
       "    .dataframe tbody tr th:only-of-type {\n",
       "        vertical-align: middle;\n",
       "    }\n",
       "\n",
       "    .dataframe tbody tr th {\n",
       "        vertical-align: top;\n",
       "    }\n",
       "\n",
       "    .dataframe thead th {\n",
       "        text-align: right;\n",
       "    }\n",
       "</style>\n",
       "<table border=\"1\" class=\"dataframe\">\n",
       "  <thead>\n",
       "    <tr style=\"text-align: right;\">\n",
       "      <th></th>\n",
       "      <th>회사ID</th>\n",
       "      <th>연매출액</th>\n",
       "      <th>년도</th>\n",
       "      <th>월</th>\n",
       "      <th>월별_연금보험료</th>\n",
       "      <th>월별_직원수</th>\n",
       "    </tr>\n",
       "  </thead>\n",
       "  <tbody>\n",
       "    <tr>\n",
       "      <th>0</th>\n",
       "      <td>233757</td>\n",
       "      <td>41688077</td>\n",
       "      <td>2018</td>\n",
       "      <td>7</td>\n",
       "      <td>8912380</td>\n",
       "      <td>36</td>\n",
       "    </tr>\n",
       "    <tr>\n",
       "      <th>1</th>\n",
       "      <td>123464</td>\n",
       "      <td>1760695</td>\n",
       "      <td>2018</td>\n",
       "      <td>3</td>\n",
       "      <td>942380</td>\n",
       "      <td>5</td>\n",
       "    </tr>\n",
       "    <tr>\n",
       "      <th>2</th>\n",
       "      <td>342124</td>\n",
       "      <td>3221341</td>\n",
       "      <td>2018</td>\n",
       "      <td>7</td>\n",
       "      <td>781180</td>\n",
       "      <td>4</td>\n",
       "    </tr>\n",
       "    <tr>\n",
       "      <th>3</th>\n",
       "      <td>386420</td>\n",
       "      <td>4815584</td>\n",
       "      <td>2015</td>\n",
       "      <td>11</td>\n",
       "      <td>3795900</td>\n",
       "      <td>14</td>\n",
       "    </tr>\n",
       "    <tr>\n",
       "      <th>4</th>\n",
       "      <td>129243</td>\n",
       "      <td>9799736</td>\n",
       "      <td>2018</td>\n",
       "      <td>10</td>\n",
       "      <td>40724680</td>\n",
       "      <td>151</td>\n",
       "    </tr>\n",
       "  </tbody>\n",
       "</table>\n",
       "</div>"
      ],
      "text/plain": [
       "     회사ID      연매출액    년도   월  월별_연금보험료  월별_직원수\n",
       "0  233757  41688077  2018   7   8912380      36\n",
       "1  123464   1760695  2018   3    942380       5\n",
       "2  342124   3221341  2018   7    781180       4\n",
       "3  386420   4815584  2015  11   3795900      14\n",
       "4  129243   9799736  2018  10  40724680     151"
      ]
     },
     "execution_count": 6,
     "metadata": {},
     "output_type": "execute_result"
    }
   ],
   "source": [
    "unicorn.head()"
   ]
  },
  {
   "cell_type": "markdown",
   "id": "0caac643",
   "metadata": {},
   "source": [
    "#### 간단히 살펴보기 \n",
    "- 5000개 기업에 대한 데이터 \n",
    "- 결측값은 없음 \n",
    "- 월별 직원수, 연금보험료에서 -인 값은 없고, 연매출액의 경우 -값이 있음 \n",
    "- 2015년 ~ 2019년 데이터인데 기업마다 데이터의 수가 다름. 평균적으로 14개 존재."
   ]
  },
  {
   "cell_type": "code",
   "execution_count": 7,
   "id": "7ede770f",
   "metadata": {},
   "outputs": [
    {
     "name": "stdout",
     "output_type": "stream",
     "text": [
      "<class 'pandas.core.frame.DataFrame'>\n",
      "RangeIndex: 99801 entries, 0 to 99800\n",
      "Data columns (total 6 columns):\n",
      " #   Column    Non-Null Count  Dtype\n",
      "---  ------    --------------  -----\n",
      " 0   회사ID      99801 non-null  int64\n",
      " 1   연매출액      99801 non-null  int64\n",
      " 2   년도        99801 non-null  int64\n",
      " 3   월         99801 non-null  int64\n",
      " 4   월별_연금보험료  99801 non-null  int64\n",
      " 5   월별_직원수    99801 non-null  int64\n",
      "dtypes: int64(6)\n",
      "memory usage: 4.6 MB\n"
     ]
    }
   ],
   "source": [
    "unicorn.info()"
   ]
  },
  {
   "cell_type": "code",
   "execution_count": 8,
   "id": "02f6f1dd",
   "metadata": {},
   "outputs": [
    {
     "data": {
      "text/html": [
       "<div>\n",
       "<style scoped>\n",
       "    .dataframe tbody tr th:only-of-type {\n",
       "        vertical-align: middle;\n",
       "    }\n",
       "\n",
       "    .dataframe tbody tr th {\n",
       "        vertical-align: top;\n",
       "    }\n",
       "\n",
       "    .dataframe thead th {\n",
       "        text-align: right;\n",
       "    }\n",
       "</style>\n",
       "<table border=\"1\" class=\"dataframe\">\n",
       "  <thead>\n",
       "    <tr style=\"text-align: right;\">\n",
       "      <th></th>\n",
       "      <th>회사ID</th>\n",
       "      <th>연매출액</th>\n",
       "      <th>년도</th>\n",
       "      <th>월</th>\n",
       "      <th>월별_연금보험료</th>\n",
       "      <th>월별_직원수</th>\n",
       "    </tr>\n",
       "  </thead>\n",
       "  <tbody>\n",
       "    <tr>\n",
       "      <th>count</th>\n",
       "      <td>9.980100e+04</td>\n",
       "      <td>9.980100e+04</td>\n",
       "      <td>99801.000000</td>\n",
       "      <td>99801.000000</td>\n",
       "      <td>9.980100e+04</td>\n",
       "      <td>99801.000000</td>\n",
       "    </tr>\n",
       "    <tr>\n",
       "      <th>mean</th>\n",
       "      <td>2.762982e+05</td>\n",
       "      <td>3.053589e+07</td>\n",
       "      <td>2016.967125</td>\n",
       "      <td>6.714352</td>\n",
       "      <td>9.734079e+06</td>\n",
       "      <td>37.623431</td>\n",
       "    </tr>\n",
       "    <tr>\n",
       "      <th>std</th>\n",
       "      <td>1.339032e+05</td>\n",
       "      <td>3.016647e+08</td>\n",
       "      <td>0.976688</td>\n",
       "      <td>3.512966</td>\n",
       "      <td>4.347256e+07</td>\n",
       "      <td>146.947194</td>\n",
       "    </tr>\n",
       "    <tr>\n",
       "      <th>min</th>\n",
       "      <td>6.300000e+01</td>\n",
       "      <td>-7.882176e+06</td>\n",
       "      <td>2015.000000</td>\n",
       "      <td>1.000000</td>\n",
       "      <td>0.000000e+00</td>\n",
       "      <td>0.000000</td>\n",
       "    </tr>\n",
       "    <tr>\n",
       "      <th>25%</th>\n",
       "      <td>1.655300e+05</td>\n",
       "      <td>1.409760e+06</td>\n",
       "      <td>2016.000000</td>\n",
       "      <td>4.000000</td>\n",
       "      <td>1.181160e+06</td>\n",
       "      <td>6.000000</td>\n",
       "    </tr>\n",
       "    <tr>\n",
       "      <th>50%</th>\n",
       "      <td>2.591490e+05</td>\n",
       "      <td>3.573585e+06</td>\n",
       "      <td>2017.000000</td>\n",
       "      <td>7.000000</td>\n",
       "      <td>2.332760e+06</td>\n",
       "      <td>11.000000</td>\n",
       "    </tr>\n",
       "    <tr>\n",
       "      <th>75%</th>\n",
       "      <td>3.826560e+05</td>\n",
       "      <td>9.582321e+06</td>\n",
       "      <td>2018.000000</td>\n",
       "      <td>10.000000</td>\n",
       "      <td>5.591860e+06</td>\n",
       "      <td>24.000000</td>\n",
       "    </tr>\n",
       "    <tr>\n",
       "      <th>max</th>\n",
       "      <td>5.159723e+06</td>\n",
       "      <td>1.132878e+10</td>\n",
       "      <td>2019.000000</td>\n",
       "      <td>12.000000</td>\n",
       "      <td>9.780673e+08</td>\n",
       "      <td>3133.000000</td>\n",
       "    </tr>\n",
       "  </tbody>\n",
       "</table>\n",
       "</div>"
      ],
      "text/plain": [
       "               회사ID          연매출액            년도             월      월별_연금보험료  \\\n",
       "count  9.980100e+04  9.980100e+04  99801.000000  99801.000000  9.980100e+04   \n",
       "mean   2.762982e+05  3.053589e+07   2016.967125      6.714352  9.734079e+06   \n",
       "std    1.339032e+05  3.016647e+08      0.976688      3.512966  4.347256e+07   \n",
       "min    6.300000e+01 -7.882176e+06   2015.000000      1.000000  0.000000e+00   \n",
       "25%    1.655300e+05  1.409760e+06   2016.000000      4.000000  1.181160e+06   \n",
       "50%    2.591490e+05  3.573585e+06   2017.000000      7.000000  2.332760e+06   \n",
       "75%    3.826560e+05  9.582321e+06   2018.000000     10.000000  5.591860e+06   \n",
       "max    5.159723e+06  1.132878e+10   2019.000000     12.000000  9.780673e+08   \n",
       "\n",
       "             월별_직원수  \n",
       "count  99801.000000  \n",
       "mean      37.623431  \n",
       "std      146.947194  \n",
       "min        0.000000  \n",
       "25%        6.000000  \n",
       "50%       11.000000  \n",
       "75%       24.000000  \n",
       "max     3133.000000  "
      ]
     },
     "execution_count": 8,
     "metadata": {},
     "output_type": "execute_result"
    }
   ],
   "source": [
    "unicorn.describe()"
   ]
  },
  {
   "cell_type": "code",
   "execution_count": 9,
   "id": "6c127baa",
   "metadata": {},
   "outputs": [
    {
     "data": {
      "text/plain": [
       "count    5000.000000\n",
       "mean       19.960200\n",
       "std        11.519512\n",
       "min         1.000000\n",
       "25%        12.000000\n",
       "50%        14.000000\n",
       "75%        26.000000\n",
       "max        50.000000\n",
       "Name: 회사ID, dtype: float64"
      ]
     },
     "execution_count": 9,
     "metadata": {},
     "output_type": "execute_result"
    }
   ],
   "source": [
    "unicorn[\"회사ID\"].value_counts().describe()"
   ]
  },
  {
   "cell_type": "markdown",
   "id": "1bf1e0c8",
   "metadata": {},
   "source": [
    "#### 회사의 규모/성장을 어떻게 판단할 수 있을까?\n",
    "- 연매출액과 연금보험료, 연금보험료와 직원수, 직원수와 연매출액은 모두 양의 상관관계를 보임\n",
    "- 직원수와 연금보험료의 경우, 직원의 임금에 따라 연금보험료를 지불하기 때문에 특히 상관관계가 강함\n",
    "- 두 컬럼 중에서는 '직원수'만 사용해도 될 것으로 판단 (직원수가 일차적 지표 )"
   ]
  },
  {
   "cell_type": "code",
   "execution_count": 10,
   "id": "eca49015",
   "metadata": {},
   "outputs": [
    {
     "data": {
      "text/plain": [
       "<AxesSubplot:>"
      ]
     },
     "execution_count": 10,
     "metadata": {},
     "output_type": "execute_result"
    },
    {
     "data": {
      "image/png": "[encoded data removed]",
      "text/plain": [
       "<Figure size 432x288 with 2 Axes>"
      ]
     },
     "metadata": {
      "needs_background": "light"
     },
     "output_type": "display_data"
    }
   ],
   "source": [
    "sns.heatmap(unicorn[['연매출액', '월별_연금보험료', '월별_직원수']].corr(), \n",
    "           annot=True)"
   ]
  },
  {
   "cell_type": "code",
   "execution_count": 11,
   "id": "3cf9a137",
   "metadata": {},
   "outputs": [
    {
     "data": {
      "text/plain": [
       "array([231080, 130322, 232757, 127060, 130729, 231606, 419977, 510329,\n",
       "       381180, 126606, 381344, 234236, 126831, 420082, 126664, 227414,\n",
       "       128638, 420046, 129828, 127669, 126641,    102, 231703, 127511,\n",
       "       126814, 420076, 294649, 440030, 128896, 403504, 403359, 294337,\n",
       "       294530, 146654, 128539,     95, 294964, 126983,   2842, 297874,\n",
       "       126521, 126772, 294620, 297327, 126516, 127090, 127180, 403351,\n",
       "       128174, 127366, 419998, 294367, 130386, 231173, 127065, 154500,\n",
       "       295805, 301484, 433492, 130577, 420008, 630190, 294790, 128440,\n",
       "       403434, 403462, 126538, 403470, 426429, 227415, 130387,   8835,\n",
       "       420237, 428817,  40860, 419945,     63, 295618, 126674, 469677,\n",
       "       294387, 469458, 382850, 260890, 127202, 567650, 128485, 420092,\n",
       "       231384,    597, 433756, 403522, 133951, 547586, 489849, 126802,\n",
       "         5452, 430504, 296476, 420165, 580356, 439986, 439902])"
      ]
     },
     "execution_count": 11,
     "metadata": {},
     "output_type": "execute_result"
    }
   ],
   "source": [
    "unicorn[unicorn[\"연매출액\"] >= 100000000][\"회사ID\"].unique()"
   ]
  },
  {
   "cell_type": "markdown",
   "id": "52535a7e",
   "metadata": {},
   "source": [
    "#### 새로운 column 만들기 \n",
    "- 1. 연/월 : 연도와 월을 합쳐서 연/월 컬럼을 구성\n",
    "- 2. 연금보험료, 직원수 증가율\n",
    "\n",
    "[참고] \n",
    "\n",
    "- 그런데 처리하고 나니 0이 있어서 증가율이 inf로 계산된 컬럼들이 발견됨 (주의!!)\n",
    "- 보험료 증가율과 직원수 증가율은, (당연하지만) 우상향 하고 있음 "
   ]
  },
  {
   "cell_type": "code",
   "execution_count": 12,
   "id": "13fd9746",
   "metadata": {},
   "outputs": [],
   "source": [
    "unicorn[\"월\"] = unicorn[\"월\"].apply(lambda x : str(x).zfill(2))"
   ]
  },
  {
   "cell_type": "code",
   "execution_count": 13,
   "id": "77fe32f5",
   "metadata": {},
   "outputs": [],
   "source": [
    "unicorn[\"년도\"] = unicorn[\"년도\"].astype(str)\n",
    "unicorn[\"연월\"] = unicorn[\"년도\"] + \"/\" + unicorn[\"월\"]"
   ]
  },
  {
   "cell_type": "code",
   "execution_count": 14,
   "id": "b0bb25d0",
   "metadata": {},
   "outputs": [],
   "source": [
    "unicorn['연월'] = unicorn[\"연월\"].apply(lambda x : datetime.strptime(x,'%Y/%m'))\n",
    "unicorn['연월'] = unicorn['연월'].dt.to_period(freq = 'M') "
   ]
  },
  {
   "cell_type": "code",
   "execution_count": 15,
   "id": "80aeab6c",
   "metadata": {},
   "outputs": [],
   "source": [
    "unicorn = unicorn.sort_values(by=\"연월\")\n",
    "unicorn[\"월별_보험료_증가율(%)\"] = round(unicorn[[\"회사ID\", \"월별_연금보험료\"]].groupby(\"회사ID\").pct_change(), 4) * 100\n",
    "unicorn[\"월별_직원수_증가율(%)\"] = round(unicorn[[\"회사ID\", \"월별_직원수\"]].groupby(\"회사ID\").pct_change(), 4) * 100"
   ]
  },
  {
   "cell_type": "code",
   "execution_count": 16,
   "id": "45c861d7",
   "metadata": {},
   "outputs": [
    {
     "data": {
      "text/plain": [
       "<AxesSubplot:xlabel='월별_보험료_증가율(%)', ylabel='월별_직원수_증가율(%)'>"
      ]
     },
     "execution_count": 16,
     "metadata": {},
     "output_type": "execute_result"
    },
    {
     "data": {
      "image/png": "[encoded data removed]",
      "text/plain": [
       "<Figure size 432x288 with 1 Axes>"
      ]
     },
     "metadata": {
      "needs_background": "light"
     },
     "output_type": "display_data"
    }
   ],
   "source": [
    "sns.scatterplot(data = unicorn,\n",
    "                x = \"월별_보험료_증가율(%)\",\n",
    "                y = \"월별_직원수_증가율(%)\")"
   ]
  },
  {
   "cell_type": "markdown",
   "id": "e93d4c80",
   "metadata": {},
   "source": [
    "#### 연매출액 확인 \n",
    "- 2019년에도 데이터가 있는 회사가 많지 않음 (74개)\n",
    "- 연매출액을 시각화했을 때, 2019년 데이터가 없더라도 매출은 낮지 않기 때문에 폐업했을 것이라는 추정은 불가 "
   ]
  },
  {
   "cell_type": "code",
   "execution_count": 17,
   "id": "579a1dfd",
   "metadata": {},
   "outputs": [
    {
     "name": "stderr",
     "output_type": "stream",
     "text": [
      "<ipython-input-17-b3d27cff738d>:2: SettingWithCopyWarning: \n",
      "A value is trying to be set on a copy of a slice from a DataFrame\n",
      "\n",
      "See the caveats in the documentation: https://pandas.pydata.org/pandas-docs/stable/user_guide/indexing.html#returning-a-view-versus-a-copy\n",
      "  revenue.drop_duplicates(inplace=True)\n"
     ]
    }
   ],
   "source": [
    "revenue = unicorn[[\"회사ID\", \"연매출액\", \"년도\"]]\n",
    "revenue.drop_duplicates(inplace=True)"
   ]
  },
  {
   "cell_type": "code",
   "execution_count": 18,
   "id": "78a3835b",
   "metadata": {},
   "outputs": [
    {
     "data": {
      "text/plain": [
       "<matplotlib.legend.Legend at 0x14876c100>"
      ]
     },
     "execution_count": 18,
     "metadata": {},
     "output_type": "execute_result"
    },
    {
     "data": {
      "image/png": "[encoded data removed]",
      "text/plain": [
       "<Figure size 720x360 with 1 Axes>"
      ]
     },
     "metadata": {
      "needs_background": "light"
     },
     "output_type": "display_data"
    }
   ],
   "source": [
    "plt.figure(figsize=(10, 5))\n",
    "sns.lineplot(data=revenue, x=\"년도\", y=\"연매출액\", hue=\"회사ID\")\n",
    "plt.legend([])"
   ]
  },
  {
   "cell_type": "code",
   "execution_count": 19,
   "id": "c87c6a22",
   "metadata": {},
   "outputs": [
    {
     "name": "stdout",
     "output_type": "stream",
     "text": [
      "2019년도에 데이터가 있는 회사의 수 : 74개 \n",
      "리스트는 다음과 같음 : [395238, 315996, 296819, 138077, 570867, 237625, 440911, 246826, 130261, 134575, 420165, 264486, 473265, 338722, 155754, 434171, 419945, 368448, 155829, 297542, 263195, 440884, 130023, 440559, 2037, 428380, 177377, 510449, 443698, 478922, 256445, 205415, 165163, 441424, 401386, 442525, 255015, 250472, 280967, 445499, 14271, 332916, 303882, 193239, 404192, 128174, 294367, 294028, 130756, 212335, 337323, 8208, 343863, 140370, 158004, 135668, 192812, 254479, 442376, 581504, 131998, 139442, 258745, 47306, 305146, 297682, 270460, 442467, 442798, 173916, 620445, 2693684, 3312354, 5159723]\n"
     ]
    }
   ],
   "source": [
    "temp = list(unicorn[unicorn[\"년도\"] == \"2019\"][\"회사ID\"].unique())\n",
    "print(f\"2019년도에 데이터가 있는 회사의 수 : {len(temp)}개 \\\n",
    "\\n리스트는 다음과 같음 : {temp}\")"
   ]
  },
  {
   "cell_type": "markdown",
   "id": "4bf42ce8",
   "metadata": {},
   "source": [
    "#### 직원수 확인 \n",
    "- 월별 직원수가 0명인 회사들이 11곳 존재함 \n",
    "- 해당 회사들의 경우, 월별 직원수가 0~11명 사이로 제외해도 될 것으로 판단됨 "
   ]
  },
  {
   "cell_type": "code",
   "execution_count": 20,
   "id": "c9fe9355",
   "metadata": {},
   "outputs": [
    {
     "data": {
      "text/plain": [
       "array([288014, 478999, 291968, 277054, 217292, 439536, 157237, 472629,\n",
       "       550603, 602137, 568445])"
      ]
     },
     "execution_count": 20,
     "metadata": {},
     "output_type": "execute_result"
    }
   ],
   "source": [
    "unicorn[unicorn[\"월별_직원수\"] == 0][\"회사ID\"].unique()"
   ]
  },
  {
   "cell_type": "code",
   "execution_count": 21,
   "id": "4f79cf5e",
   "metadata": {},
   "outputs": [
    {
     "data": {
      "text/html": [
       "<div>\n",
       "<style scoped>\n",
       "    .dataframe tbody tr th:only-of-type {\n",
       "        vertical-align: middle;\n",
       "    }\n",
       "\n",
       "    .dataframe tbody tr th {\n",
       "        vertical-align: top;\n",
       "    }\n",
       "\n",
       "    .dataframe thead th {\n",
       "        text-align: right;\n",
       "    }\n",
       "</style>\n",
       "<table border=\"1\" class=\"dataframe\">\n",
       "  <thead>\n",
       "    <tr style=\"text-align: right;\">\n",
       "      <th></th>\n",
       "      <th>회사ID</th>\n",
       "      <th>연매출액</th>\n",
       "      <th>년도</th>\n",
       "      <th>월</th>\n",
       "      <th>월별_연금보험료</th>\n",
       "      <th>월별_직원수</th>\n",
       "      <th>연월</th>\n",
       "      <th>월별_보험료_증가율(%)</th>\n",
       "      <th>월별_직원수_증가율(%)</th>\n",
       "    </tr>\n",
       "  </thead>\n",
       "  <tbody>\n",
       "    <tr>\n",
       "      <th>42386</th>\n",
       "      <td>472629</td>\n",
       "      <td>1915700</td>\n",
       "      <td>2018</td>\n",
       "      <td>04</td>\n",
       "      <td>2402520</td>\n",
       "      <td>11</td>\n",
       "      <td>2018-04</td>\n",
       "      <td>0.00</td>\n",
       "      <td>0.00</td>\n",
       "    </tr>\n",
       "    <tr>\n",
       "      <th>49802</th>\n",
       "      <td>472629</td>\n",
       "      <td>1915700</td>\n",
       "      <td>2018</td>\n",
       "      <td>03</td>\n",
       "      <td>2402520</td>\n",
       "      <td>11</td>\n",
       "      <td>2018-03</td>\n",
       "      <td>45.05</td>\n",
       "      <td>57.14</td>\n",
       "    </tr>\n",
       "    <tr>\n",
       "      <th>92177</th>\n",
       "      <td>472629</td>\n",
       "      <td>1915700</td>\n",
       "      <td>2018</td>\n",
       "      <td>05</td>\n",
       "      <td>2402520</td>\n",
       "      <td>11</td>\n",
       "      <td>2018-05</td>\n",
       "      <td>0.00</td>\n",
       "      <td>0.00</td>\n",
       "    </tr>\n",
       "    <tr>\n",
       "      <th>67145</th>\n",
       "      <td>472629</td>\n",
       "      <td>1915700</td>\n",
       "      <td>2018</td>\n",
       "      <td>06</td>\n",
       "      <td>2384520</td>\n",
       "      <td>11</td>\n",
       "      <td>2018-06</td>\n",
       "      <td>-0.75</td>\n",
       "      <td>0.00</td>\n",
       "    </tr>\n",
       "    <tr>\n",
       "      <th>63712</th>\n",
       "      <td>472629</td>\n",
       "      <td>1915700</td>\n",
       "      <td>2018</td>\n",
       "      <td>07</td>\n",
       "      <td>2384520</td>\n",
       "      <td>11</td>\n",
       "      <td>2018-07</td>\n",
       "      <td>0.00</td>\n",
       "      <td>0.00</td>\n",
       "    </tr>\n",
       "    <tr>\n",
       "      <th>...</th>\n",
       "      <td>...</td>\n",
       "      <td>...</td>\n",
       "      <td>...</td>\n",
       "      <td>...</td>\n",
       "      <td>...</td>\n",
       "      <td>...</td>\n",
       "      <td>...</td>\n",
       "      <td>...</td>\n",
       "      <td>...</td>\n",
       "    </tr>\n",
       "    <tr>\n",
       "      <th>82809</th>\n",
       "      <td>217292</td>\n",
       "      <td>245945</td>\n",
       "      <td>2016</td>\n",
       "      <td>06</td>\n",
       "      <td>0</td>\n",
       "      <td>0</td>\n",
       "      <td>2016-06</td>\n",
       "      <td>-100.00</td>\n",
       "      <td>-100.00</td>\n",
       "    </tr>\n",
       "    <tr>\n",
       "      <th>69239</th>\n",
       "      <td>157237</td>\n",
       "      <td>27020003</td>\n",
       "      <td>2017</td>\n",
       "      <td>05</td>\n",
       "      <td>0</td>\n",
       "      <td>0</td>\n",
       "      <td>2017-05</td>\n",
       "      <td>-100.00</td>\n",
       "      <td>-100.00</td>\n",
       "    </tr>\n",
       "    <tr>\n",
       "      <th>7251</th>\n",
       "      <td>288014</td>\n",
       "      <td>3709457</td>\n",
       "      <td>2016</td>\n",
       "      <td>11</td>\n",
       "      <td>0</td>\n",
       "      <td>0</td>\n",
       "      <td>2016-11</td>\n",
       "      <td>NaN</td>\n",
       "      <td>NaN</td>\n",
       "    </tr>\n",
       "    <tr>\n",
       "      <th>64139</th>\n",
       "      <td>472629</td>\n",
       "      <td>1915700</td>\n",
       "      <td>2018</td>\n",
       "      <td>01</td>\n",
       "      <td>0</td>\n",
       "      <td>0</td>\n",
       "      <td>2018-01</td>\n",
       "      <td>-100.00</td>\n",
       "      <td>-100.00</td>\n",
       "    </tr>\n",
       "    <tr>\n",
       "      <th>20070</th>\n",
       "      <td>550603</td>\n",
       "      <td>416881</td>\n",
       "      <td>2018</td>\n",
       "      <td>01</td>\n",
       "      <td>0</td>\n",
       "      <td>0</td>\n",
       "      <td>2018-01</td>\n",
       "      <td>NaN</td>\n",
       "      <td>NaN</td>\n",
       "    </tr>\n",
       "  </tbody>\n",
       "</table>\n",
       "<p>92 rows × 9 columns</p>\n",
       "</div>"
      ],
      "text/plain": [
       "         회사ID      연매출액    년도   월  월별_연금보험료  월별_직원수       연월  월별_보험료_증가율(%)  \\\n",
       "42386  472629   1915700  2018  04   2402520      11  2018-04           0.00   \n",
       "49802  472629   1915700  2018  03   2402520      11  2018-03          45.05   \n",
       "92177  472629   1915700  2018  05   2402520      11  2018-05           0.00   \n",
       "67145  472629   1915700  2018  06   2384520      11  2018-06          -0.75   \n",
       "63712  472629   1915700  2018  07   2384520      11  2018-07           0.00   \n",
       "...       ...       ...   ...  ..       ...     ...      ...            ...   \n",
       "82809  217292    245945  2016  06         0       0  2016-06        -100.00   \n",
       "69239  157237  27020003  2017  05         0       0  2017-05        -100.00   \n",
       "7251   288014   3709457  2016  11         0       0  2016-11            NaN   \n",
       "64139  472629   1915700  2018  01         0       0  2018-01        -100.00   \n",
       "20070  550603    416881  2018  01         0       0  2018-01            NaN   \n",
       "\n",
       "       월별_직원수_증가율(%)  \n",
       "42386           0.00  \n",
       "49802          57.14  \n",
       "92177           0.00  \n",
       "67145           0.00  \n",
       "63712           0.00  \n",
       "...              ...  \n",
       "82809        -100.00  \n",
       "69239        -100.00  \n",
       "7251             NaN  \n",
       "64139        -100.00  \n",
       "20070            NaN  \n",
       "\n",
       "[92 rows x 9 columns]"
      ]
     },
     "execution_count": 21,
     "metadata": {},
     "output_type": "execute_result"
    }
   ],
   "source": [
    "unicorn[unicorn[\"회사ID\"].isin(list(unicorn[unicorn[\"월별_직원수\"] == 0][\"회사ID\"].unique()))].sort_values(by=\"월별_직원수\", ascending=False)"
   ]
  },
  {
   "cell_type": "code",
   "execution_count": 22,
   "id": "a0f217d7",
   "metadata": {},
   "outputs": [
    {
     "data": {
      "text/html": [
       "<div>\n",
       "<style scoped>\n",
       "    .dataframe tbody tr th:only-of-type {\n",
       "        vertical-align: middle;\n",
       "    }\n",
       "\n",
       "    .dataframe tbody tr th {\n",
       "        vertical-align: top;\n",
       "    }\n",
       "\n",
       "    .dataframe thead th {\n",
       "        text-align: right;\n",
       "    }\n",
       "</style>\n",
       "<table border=\"1\" class=\"dataframe\">\n",
       "  <thead>\n",
       "    <tr style=\"text-align: right;\">\n",
       "      <th></th>\n",
       "      <th>연매출액</th>\n",
       "      <th>월별_연금보험료</th>\n",
       "      <th>월별_직원수</th>\n",
       "      <th>월별_보험료_증가율(%)</th>\n",
       "      <th>월별_직원수_증가율(%)</th>\n",
       "    </tr>\n",
       "    <tr>\n",
       "      <th>회사ID</th>\n",
       "      <th></th>\n",
       "      <th></th>\n",
       "      <th></th>\n",
       "      <th></th>\n",
       "      <th></th>\n",
       "    </tr>\n",
       "  </thead>\n",
       "  <tbody>\n",
       "    <tr>\n",
       "      <th>472629</th>\n",
       "      <td>1.516086e+06</td>\n",
       "      <td>1.177962e+06</td>\n",
       "      <td>6.416667</td>\n",
       "      <td>inf</td>\n",
       "      <td>inf</td>\n",
       "    </tr>\n",
       "    <tr>\n",
       "      <th>478999</th>\n",
       "      <td>3.609783e+05</td>\n",
       "      <td>3.619483e+05</td>\n",
       "      <td>2.916667</td>\n",
       "      <td>inf</td>\n",
       "      <td>inf</td>\n",
       "    </tr>\n",
       "    <tr>\n",
       "      <th>291968</th>\n",
       "      <td>4.395648e+06</td>\n",
       "      <td>6.844762e+05</td>\n",
       "      <td>2.884615</td>\n",
       "      <td>inf</td>\n",
       "      <td>inf</td>\n",
       "    </tr>\n",
       "    <tr>\n",
       "      <th>277054</th>\n",
       "      <td>9.547800e+04</td>\n",
       "      <td>2.452500e+05</td>\n",
       "      <td>2.000000</td>\n",
       "      <td>inf</td>\n",
       "      <td>inf</td>\n",
       "    </tr>\n",
       "    <tr>\n",
       "      <th>568445</th>\n",
       "      <td>7.402450e+05</td>\n",
       "      <td>4.725000e+05</td>\n",
       "      <td>1.500000</td>\n",
       "      <td>inf</td>\n",
       "      <td>inf</td>\n",
       "    </tr>\n",
       "  </tbody>\n",
       "</table>\n",
       "</div>"
      ],
      "text/plain": [
       "                연매출액      월별_연금보험료    월별_직원수  월별_보험료_증가율(%)  월별_직원수_증가율(%)\n",
       "회사ID                                                                      \n",
       "472629  1.516086e+06  1.177962e+06  6.416667            inf            inf\n",
       "478999  3.609783e+05  3.619483e+05  2.916667            inf            inf\n",
       "291968  4.395648e+06  6.844762e+05  2.884615            inf            inf\n",
       "277054  9.547800e+04  2.452500e+05  2.000000            inf            inf\n",
       "568445  7.402450e+05  4.725000e+05  1.500000            inf            inf"
      ]
     },
     "execution_count": 22,
     "metadata": {},
     "output_type": "execute_result"
    }
   ],
   "source": [
    "data = unicorn.groupby(\"회사ID\").mean().sort_values(by=\"월별_직원수_증가율(%)\", ascending=False)\n",
    "data.head(5)"
   ]
  },
  {
   "cell_type": "code",
   "execution_count": null,
   "id": "f56839b0",
   "metadata": {},
   "outputs": [],
   "source": []
  },
  {
   "cell_type": "markdown",
   "id": "18adda1a",
   "metadata": {},
   "source": [
    "#### 매출 75% 이상, 직원수 75% 이상에 들어가는 기업은 몇 곳? (주관적 생각)"
   ]
  },
  {
   "cell_type": "code",
   "execution_count": 23,
   "id": "d5c92f16",
   "metadata": {},
   "outputs": [
    {
     "name": "stdout",
     "output_type": "stream",
     "text": [
      "두 기준을 모두 충족하는 기업은 몇 군데? 663\n"
     ]
    }
   ],
   "source": [
    "set1 = set(unicorn[unicorn[\"월별_직원수\"] >= unicorn[\"월별_직원수\"].describe()[\"75%\"]][\"회사ID\"].unique())\n",
    "set2 = set(unicorn[unicorn[\"연매출액\"] >= unicorn[\"연매출액\"].describe()[\"75%\"]][\"회사ID\"].unique())\n",
    "print(\"두 기준을 모두 충족하는 기업은 몇 군데?\", len(set1 & set2))"
   ]
  },
  {
   "cell_type": "markdown",
   "id": "84f593bb",
   "metadata": {},
   "source": [
    "#### 매출 1000억 이상, 직원수 75% 이상에 들어가는 기업은 몇 곳? (주관적 생각)"
   ]
  },
  {
   "cell_type": "code",
   "execution_count": 24,
   "id": "871f1ef3",
   "metadata": {},
   "outputs": [
    {
     "name": "stdout",
     "output_type": "stream",
     "text": [
      "두 기준을 모두 충족하는 기업은 몇 군데? 95\n"
     ]
    }
   ],
   "source": [
    "set1 = set(unicorn[unicorn[\"월별_직원수\"] >= unicorn[\"월별_직원수\"].describe()[\"75%\"]][\"회사ID\"].unique())\n",
    "set2 = set(unicorn[unicorn[\"연매출액\"] >= 100000000][\"회사ID\"].unique())\n",
    "print(\"두 기준을 모두 충족하는 기업은 몇 군데?\", len(set1 & set2))"
   ]
  },
  {
   "cell_type": "markdown",
   "id": "bdea6362",
   "metadata": {},
   "source": [
    "#여기까지 진행하고 든 생각 \n",
    "- zscore 후 증감을 판단해야 했을까?"
   ]
  },
  {
   "cell_type": "markdown",
   "id": "ae4f2249",
   "metadata": {},
   "source": [
    "#### 매출 1000억 이상, 데이터 수 36개월 이상에 들어가는 기업은 몇 곳? (주관적 생각)"
   ]
  },
  {
   "cell_type": "code",
   "execution_count": 35,
   "id": "e94d804c",
   "metadata": {},
   "outputs": [
    {
     "name": "stdout",
     "output_type": "stream",
     "text": [
      "기준 1 충족 :  433\n",
      "기준 2 충족 :  1127\n",
      "두 기준을 모두 충족하는 기업은 몇 군데? 289\n"
     ]
    }
   ],
   "source": [
    "# set1 = set(unicorn[unicorn[\"월별_직원수\"] >= unicorn[\"월별_직원수\"].describe()[\"75%\"]][\"회사ID\"].unique())\n",
    "set2 = set(unicorn[unicorn[\"연매출액\"] >= 24900000][\"회사ID\"].unique())\n",
    "set3 = set(unicorn.groupby('회사ID').filter(lambda x: len(x)>=36)[\"회사ID\"].unique())\n",
    "print(\"기준 1 충족 : \", len(set2))\n",
    "print(\"기준 2 충족 : \", len(set3))\n",
    "print(\"두 기준을 모두 충족하는 기업은 몇 군데?\", len(set2 & set3))\n"
   ]
  },
  {
   "cell_type": "code",
   "execution_count": 49,
   "id": "4443a159",
   "metadata": {},
   "outputs": [
    {
     "name": "stderr",
     "output_type": "stream",
     "text": [
      "<ipython-input-49-852683849224>:2: UserWarning: Boolean Series key will be reindexed to match DataFrame index.\n",
      "  employee[employee[\"회사ID\"].value_counts() >= 3]\n"
     ]
    },
    {
     "ename": "IndexingError",
     "evalue": "Unalignable boolean Series provided as indexer (index of the boolean Series and of the indexed object do not match).",
     "output_type": "error",
     "traceback": [
      "\u001b[0;31m---------------------------------------------------------------------------\u001b[0m",
      "\u001b[0;31mIndexingError\u001b[0m                             Traceback (most recent call last)",
      "\u001b[0;32m<ipython-input-49-852683849224>\u001b[0m in \u001b[0;36m<module>\u001b[0;34m\u001b[0m\n\u001b[1;32m      1\u001b[0m \u001b[0memployee\u001b[0m \u001b[0;34m=\u001b[0m \u001b[0municorn\u001b[0m\u001b[0;34m[\u001b[0m\u001b[0;34m[\u001b[0m\u001b[0;34m\"회사ID\"\u001b[0m\u001b[0;34m,\u001b[0m \u001b[0;34m\"년도\"\u001b[0m\u001b[0;34m,\u001b[0m \u001b[0;34m\"월별_직원수\"\u001b[0m\u001b[0;34m]\u001b[0m\u001b[0;34m]\u001b[0m\u001b[0;34m.\u001b[0m\u001b[0mgroupby\u001b[0m\u001b[0;34m(\u001b[0m\u001b[0;34m[\u001b[0m\u001b[0;34m\"회사ID\"\u001b[0m\u001b[0;34m,\u001b[0m \u001b[0;34m\"년도\"\u001b[0m\u001b[0;34m]\u001b[0m\u001b[0;34m)\u001b[0m\u001b[0;34m.\u001b[0m\u001b[0mmean\u001b[0m\u001b[0;34m(\u001b[0m\u001b[0;34m)\u001b[0m\u001b[0;34m.\u001b[0m\u001b[0mreset_index\u001b[0m\u001b[0;34m(\u001b[0m\u001b[0;34m)\u001b[0m\u001b[0;34m\u001b[0m\u001b[0;34m\u001b[0m\u001b[0m\n\u001b[0;32m----> 2\u001b[0;31m \u001b[0memployee\u001b[0m\u001b[0;34m[\u001b[0m\u001b[0memployee\u001b[0m\u001b[0;34m[\u001b[0m\u001b[0;34m\"회사ID\"\u001b[0m\u001b[0;34m]\u001b[0m\u001b[0;34m.\u001b[0m\u001b[0mvalue_counts\u001b[0m\u001b[0;34m(\u001b[0m\u001b[0;34m)\u001b[0m \u001b[0;34m>=\u001b[0m \u001b[0;36m3\u001b[0m\u001b[0;34m]\u001b[0m\u001b[0;34m\u001b[0m\u001b[0;34m\u001b[0m\u001b[0m\n\u001b[0m\u001b[1;32m      3\u001b[0m \u001b[0;31m# employee.sort_values(by=[\"회사ID\", \"년도\"]).head(50)\u001b[0m\u001b[0;34m\u001b[0m\u001b[0;34m\u001b[0m\u001b[0;34m\u001b[0m\u001b[0m\n",
      "\u001b[0;32m~/miniforge3/envs/m1/lib/python3.8/site-packages/pandas/core/frame.py\u001b[0m in \u001b[0;36m__getitem__\u001b[0;34m(self, key)\u001b[0m\n\u001b[1;32m   3013\u001b[0m         \u001b[0;31m# Do we have a (boolean) 1d indexer?\u001b[0m\u001b[0;34m\u001b[0m\u001b[0;34m\u001b[0m\u001b[0;34m\u001b[0m\u001b[0m\n\u001b[1;32m   3014\u001b[0m         \u001b[0;32mif\u001b[0m \u001b[0mcom\u001b[0m\u001b[0;34m.\u001b[0m\u001b[0mis_bool_indexer\u001b[0m\u001b[0;34m(\u001b[0m\u001b[0mkey\u001b[0m\u001b[0;34m)\u001b[0m\u001b[0;34m:\u001b[0m\u001b[0;34m\u001b[0m\u001b[0;34m\u001b[0m\u001b[0m\n\u001b[0;32m-> 3015\u001b[0;31m             \u001b[0;32mreturn\u001b[0m \u001b[0mself\u001b[0m\u001b[0;34m.\u001b[0m\u001b[0m_getitem_bool_array\u001b[0m\u001b[0;34m(\u001b[0m\u001b[0mkey\u001b[0m\u001b[0;34m)\u001b[0m\u001b[0;34m\u001b[0m\u001b[0;34m\u001b[0m\u001b[0m\n\u001b[0m\u001b[1;32m   3016\u001b[0m \u001b[0;34m\u001b[0m\u001b[0m\n\u001b[1;32m   3017\u001b[0m         \u001b[0;31m# We are left with two options: a single key, and a collection of keys,\u001b[0m\u001b[0;34m\u001b[0m\u001b[0;34m\u001b[0m\u001b[0;34m\u001b[0m\u001b[0m\n",
      "\u001b[0;32m~/miniforge3/envs/m1/lib/python3.8/site-packages/pandas/core/frame.py\u001b[0m in \u001b[0;36m_getitem_bool_array\u001b[0;34m(self, key)\u001b[0m\n\u001b[1;32m   3066\u001b[0m         \u001b[0;31m# check_bool_indexer will throw exception if Series key cannot\u001b[0m\u001b[0;34m\u001b[0m\u001b[0;34m\u001b[0m\u001b[0;34m\u001b[0m\u001b[0m\n\u001b[1;32m   3067\u001b[0m         \u001b[0;31m# be reindexed to match DataFrame rows\u001b[0m\u001b[0;34m\u001b[0m\u001b[0;34m\u001b[0m\u001b[0;34m\u001b[0m\u001b[0m\n\u001b[0;32m-> 3068\u001b[0;31m         \u001b[0mkey\u001b[0m \u001b[0;34m=\u001b[0m \u001b[0mcheck_bool_indexer\u001b[0m\u001b[0;34m(\u001b[0m\u001b[0mself\u001b[0m\u001b[0;34m.\u001b[0m\u001b[0mindex\u001b[0m\u001b[0;34m,\u001b[0m \u001b[0mkey\u001b[0m\u001b[0;34m)\u001b[0m\u001b[0;34m\u001b[0m\u001b[0;34m\u001b[0m\u001b[0m\n\u001b[0m\u001b[1;32m   3069\u001b[0m         \u001b[0mindexer\u001b[0m \u001b[0;34m=\u001b[0m \u001b[0mkey\u001b[0m\u001b[0;34m.\u001b[0m\u001b[0mnonzero\u001b[0m\u001b[0;34m(\u001b[0m\u001b[0;34m)\u001b[0m\u001b[0;34m[\u001b[0m\u001b[0;36m0\u001b[0m\u001b[0;34m]\u001b[0m\u001b[0;34m\u001b[0m\u001b[0;34m\u001b[0m\u001b[0m\n\u001b[1;32m   3070\u001b[0m         \u001b[0;32mreturn\u001b[0m \u001b[0mself\u001b[0m\u001b[0;34m.\u001b[0m\u001b[0m_take_with_is_copy\u001b[0m\u001b[0;34m(\u001b[0m\u001b[0mindexer\u001b[0m\u001b[0;34m,\u001b[0m \u001b[0maxis\u001b[0m\u001b[0;34m=\u001b[0m\u001b[0;36m0\u001b[0m\u001b[0;34m)\u001b[0m\u001b[0;34m\u001b[0m\u001b[0;34m\u001b[0m\u001b[0m\n",
      "\u001b[0;32m~/miniforge3/envs/m1/lib/python3.8/site-packages/pandas/core/indexing.py\u001b[0m in \u001b[0;36mcheck_bool_indexer\u001b[0;34m(index, key)\u001b[0m\n\u001b[1;32m   2267\u001b[0m         \u001b[0mmask\u001b[0m \u001b[0;34m=\u001b[0m \u001b[0misna\u001b[0m\u001b[0;34m(\u001b[0m\u001b[0mresult\u001b[0m\u001b[0;34m.\u001b[0m\u001b[0m_values\u001b[0m\u001b[0;34m)\u001b[0m\u001b[0;34m\u001b[0m\u001b[0;34m\u001b[0m\u001b[0m\n\u001b[1;32m   2268\u001b[0m         \u001b[0;32mif\u001b[0m \u001b[0mmask\u001b[0m\u001b[0;34m.\u001b[0m\u001b[0many\u001b[0m\u001b[0;34m(\u001b[0m\u001b[0;34m)\u001b[0m\u001b[0;34m:\u001b[0m\u001b[0;34m\u001b[0m\u001b[0;34m\u001b[0m\u001b[0m\n\u001b[0;32m-> 2269\u001b[0;31m             raise IndexingError(\n\u001b[0m\u001b[1;32m   2270\u001b[0m                 \u001b[0;34m\"Unalignable boolean Series provided as \"\u001b[0m\u001b[0;34m\u001b[0m\u001b[0;34m\u001b[0m\u001b[0m\n\u001b[1;32m   2271\u001b[0m                 \u001b[0;34m\"indexer (index of the boolean Series and of \"\u001b[0m\u001b[0;34m\u001b[0m\u001b[0;34m\u001b[0m\u001b[0m\n",
      "\u001b[0;31mIndexingError\u001b[0m: Unalignable boolean Series provided as indexer (index of the boolean Series and of the indexed object do not match)."
     ]
    }
   ],
   "source": [
    "employee = unicorn[[\"회사ID\", \"년도\", \"월별_직원수\"]].groupby([\"회사ID\", \"년도\"]).mean().reset_index()\n",
    "employee[employee[\"회사ID\"].value_counts() >= 3]\n",
    "# employee.sort_values(by=[\"회사ID\", \"년도\"]).head(50)"
   ]
  },
  {
   "cell_type": "code",
   "execution_count": 48,
   "id": "0da43896",
   "metadata": {},
   "outputs": [
    {
     "data": {
      "text/html": [
       "<div>\n",
       "<style scoped>\n",
       "    .dataframe tbody tr th:only-of-type {\n",
       "        vertical-align: middle;\n",
       "    }\n",
       "\n",
       "    .dataframe tbody tr th {\n",
       "        vertical-align: top;\n",
       "    }\n",
       "\n",
       "    .dataframe thead th {\n",
       "        text-align: right;\n",
       "    }\n",
       "</style>\n",
       "<table border=\"1\" class=\"dataframe\">\n",
       "  <thead>\n",
       "    <tr style=\"text-align: right;\">\n",
       "      <th></th>\n",
       "      <th>회사ID</th>\n",
       "      <th>년도</th>\n",
       "      <th>월별_직원수</th>\n",
       "    </tr>\n",
       "  </thead>\n",
       "  <tbody>\n",
       "    <tr>\n",
       "      <th>8824</th>\n",
       "      <td>442467</td>\n",
       "      <td>2015</td>\n",
       "      <td>27.500000</td>\n",
       "    </tr>\n",
       "    <tr>\n",
       "      <th>8825</th>\n",
       "      <td>442467</td>\n",
       "      <td>2016</td>\n",
       "      <td>30.000000</td>\n",
       "    </tr>\n",
       "    <tr>\n",
       "      <th>8826</th>\n",
       "      <td>442467</td>\n",
       "      <td>2017</td>\n",
       "      <td>31.750000</td>\n",
       "    </tr>\n",
       "    <tr>\n",
       "      <th>8827</th>\n",
       "      <td>442467</td>\n",
       "      <td>2018</td>\n",
       "      <td>35.916667</td>\n",
       "    </tr>\n",
       "    <tr>\n",
       "      <th>8828</th>\n",
       "      <td>442467</td>\n",
       "      <td>2019</td>\n",
       "      <td>36.750000</td>\n",
       "    </tr>\n",
       "  </tbody>\n",
       "</table>\n",
       "</div>"
      ],
      "text/plain": [
       "        회사ID    년도     월별_직원수\n",
       "8824  442467  2015  27.500000\n",
       "8825  442467  2016  30.000000\n",
       "8826  442467  2017  31.750000\n",
       "8827  442467  2018  35.916667\n",
       "8828  442467  2019  36.750000"
      ]
     },
     "execution_count": 48,
     "metadata": {},
     "output_type": "execute_result"
    }
   ],
   "source": [
    "employee[employee[\"회사ID\"] == 442467]"
   ]
  },
  {
   "cell_type": "code",
   "execution_count": 79,
   "id": "e275071b",
   "metadata": {},
   "outputs": [
    {
     "name": "stdout",
     "output_type": "stream",
     "text": [
      "3개년 이상의 데이터가 있는 기업은 몇 개?  1645\n"
     ]
    }
   ],
   "source": [
    "mask = employee[\"회사ID\"].value_counts() >=3\n",
    "over3year = list(mask[mask == True].index)\n",
    "print(\"3개년 이상의 데이터가 있는 기업은 몇 개? \", len(over3year))"
   ]
  },
  {
   "cell_type": "code",
   "execution_count": 82,
   "id": "ba935c29",
   "metadata": {},
   "outputs": [
    {
     "data": {
      "text/html": [
       "<div>\n",
       "<style scoped>\n",
       "    .dataframe tbody tr th:only-of-type {\n",
       "        vertical-align: middle;\n",
       "    }\n",
       "\n",
       "    .dataframe tbody tr th {\n",
       "        vertical-align: top;\n",
       "    }\n",
       "\n",
       "    .dataframe thead th {\n",
       "        text-align: right;\n",
       "    }\n",
       "</style>\n",
       "<table border=\"1\" class=\"dataframe\">\n",
       "  <thead>\n",
       "    <tr style=\"text-align: right;\">\n",
       "      <th></th>\n",
       "      <th>회사ID</th>\n",
       "      <th>년도</th>\n",
       "      <th>월별_직원수</th>\n",
       "      <th>연도별_평균_직원수_증가율</th>\n",
       "    </tr>\n",
       "  </thead>\n",
       "  <tbody>\n",
       "    <tr>\n",
       "      <th>52</th>\n",
       "      <td>14271</td>\n",
       "      <td>2015</td>\n",
       "      <td>13.000000</td>\n",
       "      <td>NaN</td>\n",
       "    </tr>\n",
       "    <tr>\n",
       "      <th>53</th>\n",
       "      <td>14271</td>\n",
       "      <td>2016</td>\n",
       "      <td>14.916667</td>\n",
       "      <td>0.147436</td>\n",
       "    </tr>\n",
       "    <tr>\n",
       "      <th>54</th>\n",
       "      <td>14271</td>\n",
       "      <td>2017</td>\n",
       "      <td>16.750000</td>\n",
       "      <td>0.122905</td>\n",
       "    </tr>\n",
       "    <tr>\n",
       "      <th>55</th>\n",
       "      <td>14271</td>\n",
       "      <td>2018</td>\n",
       "      <td>20.166667</td>\n",
       "      <td>0.203980</td>\n",
       "    </tr>\n",
       "    <tr>\n",
       "      <th>56</th>\n",
       "      <td>14271</td>\n",
       "      <td>2019</td>\n",
       "      <td>22.416667</td>\n",
       "      <td>0.111570</td>\n",
       "    </tr>\n",
       "    <tr>\n",
       "      <th>222</th>\n",
       "      <td>59533</td>\n",
       "      <td>2015</td>\n",
       "      <td>5.000000</td>\n",
       "      <td>NaN</td>\n",
       "    </tr>\n",
       "    <tr>\n",
       "      <th>223</th>\n",
       "      <td>59533</td>\n",
       "      <td>2016</td>\n",
       "      <td>5.916667</td>\n",
       "      <td>0.183333</td>\n",
       "    </tr>\n",
       "    <tr>\n",
       "      <th>224</th>\n",
       "      <td>59533</td>\n",
       "      <td>2017</td>\n",
       "      <td>5.166667</td>\n",
       "      <td>-0.126761</td>\n",
       "    </tr>\n",
       "    <tr>\n",
       "      <th>225</th>\n",
       "      <td>59533</td>\n",
       "      <td>2018</td>\n",
       "      <td>5.500000</td>\n",
       "      <td>0.064516</td>\n",
       "    </tr>\n",
       "    <tr>\n",
       "      <th>410</th>\n",
       "      <td>122968</td>\n",
       "      <td>2015</td>\n",
       "      <td>88.000000</td>\n",
       "      <td>NaN</td>\n",
       "    </tr>\n",
       "    <tr>\n",
       "      <th>411</th>\n",
       "      <td>122968</td>\n",
       "      <td>2016</td>\n",
       "      <td>76.166667</td>\n",
       "      <td>-0.134470</td>\n",
       "    </tr>\n",
       "    <tr>\n",
       "      <th>412</th>\n",
       "      <td>122968</td>\n",
       "      <td>2017</td>\n",
       "      <td>71.250000</td>\n",
       "      <td>-0.064551</td>\n",
       "    </tr>\n",
       "    <tr>\n",
       "      <th>413</th>\n",
       "      <td>122968</td>\n",
       "      <td>2018</td>\n",
       "      <td>66.500000</td>\n",
       "      <td>-0.066667</td>\n",
       "    </tr>\n",
       "    <tr>\n",
       "      <th>415</th>\n",
       "      <td>122983</td>\n",
       "      <td>2015</td>\n",
       "      <td>63.500000</td>\n",
       "      <td>NaN</td>\n",
       "    </tr>\n",
       "    <tr>\n",
       "      <th>416</th>\n",
       "      <td>122983</td>\n",
       "      <td>2016</td>\n",
       "      <td>58.916667</td>\n",
       "      <td>-0.072178</td>\n",
       "    </tr>\n",
       "    <tr>\n",
       "      <th>417</th>\n",
       "      <td>122983</td>\n",
       "      <td>2017</td>\n",
       "      <td>38.250000</td>\n",
       "      <td>-0.350778</td>\n",
       "    </tr>\n",
       "    <tr>\n",
       "      <th>418</th>\n",
       "      <td>123082</td>\n",
       "      <td>2016</td>\n",
       "      <td>28.666667</td>\n",
       "      <td>NaN</td>\n",
       "    </tr>\n",
       "    <tr>\n",
       "      <th>419</th>\n",
       "      <td>123082</td>\n",
       "      <td>2017</td>\n",
       "      <td>25.833333</td>\n",
       "      <td>-0.098837</td>\n",
       "    </tr>\n",
       "    <tr>\n",
       "      <th>420</th>\n",
       "      <td>123082</td>\n",
       "      <td>2018</td>\n",
       "      <td>21.083333</td>\n",
       "      <td>-0.183871</td>\n",
       "    </tr>\n",
       "    <tr>\n",
       "      <th>421</th>\n",
       "      <td>123219</td>\n",
       "      <td>2016</td>\n",
       "      <td>15.583333</td>\n",
       "      <td>NaN</td>\n",
       "    </tr>\n",
       "    <tr>\n",
       "      <th>422</th>\n",
       "      <td>123219</td>\n",
       "      <td>2017</td>\n",
       "      <td>17.833333</td>\n",
       "      <td>0.144385</td>\n",
       "    </tr>\n",
       "    <tr>\n",
       "      <th>423</th>\n",
       "      <td>123219</td>\n",
       "      <td>2018</td>\n",
       "      <td>13.166667</td>\n",
       "      <td>-0.261682</td>\n",
       "    </tr>\n",
       "    <tr>\n",
       "      <th>424</th>\n",
       "      <td>123235</td>\n",
       "      <td>2015</td>\n",
       "      <td>19.000000</td>\n",
       "      <td>NaN</td>\n",
       "    </tr>\n",
       "    <tr>\n",
       "      <th>425</th>\n",
       "      <td>123235</td>\n",
       "      <td>2016</td>\n",
       "      <td>18.833333</td>\n",
       "      <td>-0.008772</td>\n",
       "    </tr>\n",
       "    <tr>\n",
       "      <th>426</th>\n",
       "      <td>123235</td>\n",
       "      <td>2017</td>\n",
       "      <td>17.833333</td>\n",
       "      <td>-0.053097</td>\n",
       "    </tr>\n",
       "    <tr>\n",
       "      <th>427</th>\n",
       "      <td>123235</td>\n",
       "      <td>2018</td>\n",
       "      <td>18.083333</td>\n",
       "      <td>0.014019</td>\n",
       "    </tr>\n",
       "    <tr>\n",
       "      <th>430</th>\n",
       "      <td>123447</td>\n",
       "      <td>2015</td>\n",
       "      <td>9.000000</td>\n",
       "      <td>NaN</td>\n",
       "    </tr>\n",
       "    <tr>\n",
       "      <th>431</th>\n",
       "      <td>123447</td>\n",
       "      <td>2016</td>\n",
       "      <td>10.083333</td>\n",
       "      <td>0.120370</td>\n",
       "    </tr>\n",
       "    <tr>\n",
       "      <th>432</th>\n",
       "      <td>123447</td>\n",
       "      <td>2018</td>\n",
       "      <td>8.250000</td>\n",
       "      <td>-0.181818</td>\n",
       "    </tr>\n",
       "    <tr>\n",
       "      <th>433</th>\n",
       "      <td>123464</td>\n",
       "      <td>2016</td>\n",
       "      <td>10.666667</td>\n",
       "      <td>NaN</td>\n",
       "    </tr>\n",
       "    <tr>\n",
       "      <th>434</th>\n",
       "      <td>123464</td>\n",
       "      <td>2017</td>\n",
       "      <td>7.000000</td>\n",
       "      <td>-0.343750</td>\n",
       "    </tr>\n",
       "    <tr>\n",
       "      <th>435</th>\n",
       "      <td>123464</td>\n",
       "      <td>2018</td>\n",
       "      <td>6.666667</td>\n",
       "      <td>-0.047619</td>\n",
       "    </tr>\n",
       "    <tr>\n",
       "      <th>440</th>\n",
       "      <td>123649</td>\n",
       "      <td>2016</td>\n",
       "      <td>8.583333</td>\n",
       "      <td>NaN</td>\n",
       "    </tr>\n",
       "    <tr>\n",
       "      <th>441</th>\n",
       "      <td>123649</td>\n",
       "      <td>2017</td>\n",
       "      <td>7.583333</td>\n",
       "      <td>-0.116505</td>\n",
       "    </tr>\n",
       "    <tr>\n",
       "      <th>442</th>\n",
       "      <td>123649</td>\n",
       "      <td>2018</td>\n",
       "      <td>7.583333</td>\n",
       "      <td>0.000000</td>\n",
       "    </tr>\n",
       "    <tr>\n",
       "      <th>446</th>\n",
       "      <td>123882</td>\n",
       "      <td>2016</td>\n",
       "      <td>5.666667</td>\n",
       "      <td>NaN</td>\n",
       "    </tr>\n",
       "    <tr>\n",
       "      <th>447</th>\n",
       "      <td>123882</td>\n",
       "      <td>2017</td>\n",
       "      <td>7.333333</td>\n",
       "      <td>0.294118</td>\n",
       "    </tr>\n",
       "    <tr>\n",
       "      <th>448</th>\n",
       "      <td>123882</td>\n",
       "      <td>2018</td>\n",
       "      <td>7.583333</td>\n",
       "      <td>0.034091</td>\n",
       "    </tr>\n",
       "    <tr>\n",
       "      <th>451</th>\n",
       "      <td>124181</td>\n",
       "      <td>2016</td>\n",
       "      <td>5.333333</td>\n",
       "      <td>NaN</td>\n",
       "    </tr>\n",
       "    <tr>\n",
       "      <th>452</th>\n",
       "      <td>124181</td>\n",
       "      <td>2017</td>\n",
       "      <td>6.833333</td>\n",
       "      <td>0.281250</td>\n",
       "    </tr>\n",
       "    <tr>\n",
       "      <th>453</th>\n",
       "      <td>124181</td>\n",
       "      <td>2018</td>\n",
       "      <td>5.916667</td>\n",
       "      <td>-0.134146</td>\n",
       "    </tr>\n",
       "    <tr>\n",
       "      <th>454</th>\n",
       "      <td>124223</td>\n",
       "      <td>2015</td>\n",
       "      <td>7.000000</td>\n",
       "      <td>NaN</td>\n",
       "    </tr>\n",
       "    <tr>\n",
       "      <th>455</th>\n",
       "      <td>124223</td>\n",
       "      <td>2016</td>\n",
       "      <td>5.500000</td>\n",
       "      <td>-0.214286</td>\n",
       "    </tr>\n",
       "    <tr>\n",
       "      <th>456</th>\n",
       "      <td>124223</td>\n",
       "      <td>2017</td>\n",
       "      <td>5.000000</td>\n",
       "      <td>-0.090909</td>\n",
       "    </tr>\n",
       "    <tr>\n",
       "      <th>457</th>\n",
       "      <td>124281</td>\n",
       "      <td>2015</td>\n",
       "      <td>6.000000</td>\n",
       "      <td>NaN</td>\n",
       "    </tr>\n",
       "    <tr>\n",
       "      <th>458</th>\n",
       "      <td>124281</td>\n",
       "      <td>2016</td>\n",
       "      <td>5.583333</td>\n",
       "      <td>-0.069444</td>\n",
       "    </tr>\n",
       "    <tr>\n",
       "      <th>459</th>\n",
       "      <td>124281</td>\n",
       "      <td>2017</td>\n",
       "      <td>4.500000</td>\n",
       "      <td>-0.194030</td>\n",
       "    </tr>\n",
       "    <tr>\n",
       "      <th>460</th>\n",
       "      <td>124281</td>\n",
       "      <td>2018</td>\n",
       "      <td>5.333333</td>\n",
       "      <td>0.185185</td>\n",
       "    </tr>\n",
       "    <tr>\n",
       "      <th>463</th>\n",
       "      <td>124386</td>\n",
       "      <td>2016</td>\n",
       "      <td>4.500000</td>\n",
       "      <td>NaN</td>\n",
       "    </tr>\n",
       "    <tr>\n",
       "      <th>464</th>\n",
       "      <td>124386</td>\n",
       "      <td>2017</td>\n",
       "      <td>5.250000</td>\n",
       "      <td>0.166667</td>\n",
       "    </tr>\n",
       "  </tbody>\n",
       "</table>\n",
       "</div>"
      ],
      "text/plain": [
       "       회사ID    년도     월별_직원수  연도별_평균_직원수_증가율\n",
       "52    14271  2015  13.000000             NaN\n",
       "53    14271  2016  14.916667        0.147436\n",
       "54    14271  2017  16.750000        0.122905\n",
       "55    14271  2018  20.166667        0.203980\n",
       "56    14271  2019  22.416667        0.111570\n",
       "222   59533  2015   5.000000             NaN\n",
       "223   59533  2016   5.916667        0.183333\n",
       "224   59533  2017   5.166667       -0.126761\n",
       "225   59533  2018   5.500000        0.064516\n",
       "410  122968  2015  88.000000             NaN\n",
       "411  122968  2016  76.166667       -0.134470\n",
       "412  122968  2017  71.250000       -0.064551\n",
       "413  122968  2018  66.500000       -0.066667\n",
       "415  122983  2015  63.500000             NaN\n",
       "416  122983  2016  58.916667       -0.072178\n",
       "417  122983  2017  38.250000       -0.350778\n",
       "418  123082  2016  28.666667             NaN\n",
       "419  123082  2017  25.833333       -0.098837\n",
       "420  123082  2018  21.083333       -0.183871\n",
       "421  123219  2016  15.583333             NaN\n",
       "422  123219  2017  17.833333        0.144385\n",
       "423  123219  2018  13.166667       -0.261682\n",
       "424  123235  2015  19.000000             NaN\n",
       "425  123235  2016  18.833333       -0.008772\n",
       "426  123235  2017  17.833333       -0.053097\n",
       "427  123235  2018  18.083333        0.014019\n",
       "430  123447  2015   9.000000             NaN\n",
       "431  123447  2016  10.083333        0.120370\n",
       "432  123447  2018   8.250000       -0.181818\n",
       "433  123464  2016  10.666667             NaN\n",
       "434  123464  2017   7.000000       -0.343750\n",
       "435  123464  2018   6.666667       -0.047619\n",
       "440  123649  2016   8.583333             NaN\n",
       "441  123649  2017   7.583333       -0.116505\n",
       "442  123649  2018   7.583333        0.000000\n",
       "446  123882  2016   5.666667             NaN\n",
       "447  123882  2017   7.333333        0.294118\n",
       "448  123882  2018   7.583333        0.034091\n",
       "451  124181  2016   5.333333             NaN\n",
       "452  124181  2017   6.833333        0.281250\n",
       "453  124181  2018   5.916667       -0.134146\n",
       "454  124223  2015   7.000000             NaN\n",
       "455  124223  2016   5.500000       -0.214286\n",
       "456  124223  2017   5.000000       -0.090909\n",
       "457  124281  2015   6.000000             NaN\n",
       "458  124281  2016   5.583333       -0.069444\n",
       "459  124281  2017   4.500000       -0.194030\n",
       "460  124281  2018   5.333333        0.185185\n",
       "463  124386  2016   4.500000             NaN\n",
       "464  124386  2017   5.250000        0.166667"
      ]
     },
     "execution_count": 82,
     "metadata": {},
     "output_type": "execute_result"
    }
   ],
   "source": [
    "#3개년 이상이 있는 경우만 필터링 \n",
    "employee = employee[employee[\"회사ID\"].isin(over3year)]\n",
    "employee[\"연도별_평균_직원수_증가율\"] = employee.groupby(\"회사ID\")[\"월별_직원수\"].pct_change()\n",
    "employee.head(50)"
   ]
  },
  {
   "cell_type": "code",
   "execution_count": null,
   "id": "72932aa3",
   "metadata": {},
   "outputs": [],
   "source": []
  }
 ],
 "metadata": {
  "kernelspec": {
   "display_name": "Python 3.8.6 64-bit ('m1': conda)",
   "language": "python",
   "name": "python386jvsc74a57bd07918b9be9029ed4a26abb1e3f55c1f59c9a25fcca3de584c39fa0974acb148d7"
  },
  "language_info": {
   "codemirror_mode": {
    "name": "ipython",
    "version": 3
   },
   "file_extension": ".py",
   "mimetype": "text/x-python",
   "name": "python",
   "nbconvert_exporter": "python",
   "pygments_lexer": "ipython3",
   "version": "3.8.10"
  }
 },
 "nbformat": 4,
 "nbformat_minor": 5
}
