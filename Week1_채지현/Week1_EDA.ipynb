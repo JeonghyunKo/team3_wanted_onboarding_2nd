{
  "nbformat": 4,
  "nbformat_minor": 0,
  "metadata": {
    "colab": {
      "name": "Week1_EDA",
      "provenance": [],
      "collapsed_sections": []
    },
    "kernelspec": {
      "name": "python3",
      "display_name": "Python 3"
    },
    "language_info": {
      "name": "python"
    }
  },
  "cells": [
    {
      "cell_type": "code",
      "metadata": {
        "id": "TchPGZk70qyd"
      },
      "source": [
        "# colab에서 한글이 깨질때 나눔폰트 설치\n",
        "# !sudo apt-get install -y fonts-nanum\n",
        "# !sudo fc-cache -fv\n",
        "# !rm ~/.cache/matplotlib -rf"
      ],
      "execution_count": null,
      "outputs": []
    },
    {
      "cell_type": "markdown",
      "metadata": {
        "id": "GHupYPtx44Ct"
      },
      "source": [
        "# EDA 목표\n",
        "*   유니콘 기업 분류 및 예비 유니콘 기업 분류\n",
        "*   데이터 관계를 통해 가설 설립\n",
        "\n",
        "\n",
        "\n"
      ]
    },
    {
      "cell_type": "code",
      "metadata": {
        "colab": {
          "base_uri": "https://localhost:8080/"
        },
        "id": "VVkYHDJyrhIj",
        "outputId": "4b26d8ca-363c-4491-af26-73186418ac01"
      },
      "source": [
        "from google.colab import drive\n",
        "drive.mount('./MyDrive')"
      ],
      "execution_count": 1,
      "outputs": [
        {
          "output_type": "stream",
          "text": [
            "Mounted at ./MyDrive\n"
          ],
          "name": "stdout"
        }
      ]
    },
    {
      "cell_type": "code",
      "metadata": {
        "id": "xXB6_j6qslik"
      },
      "source": [
        "import pandas as pd\n",
        "import numpy as np\n",
        "import matplotlib.pyplot as plt\n",
        "import seaborn as sns"
      ],
      "execution_count": 2,
      "outputs": []
    },
    {
      "cell_type": "code",
      "metadata": {
        "id": "9lgUNxLYsQ8C"
      },
      "source": [
        "company_df = pd.read_csv('/content/MyDrive/MyDrive/company_nps_data.csv', encoding=\"cp949\")"
      ],
      "execution_count": 3,
      "outputs": []
    },
    {
      "cell_type": "code",
      "metadata": {
        "id": "zdyJyRtstCki"
      },
      "source": [
        "# 한글 폰트 적용\n",
        "plt.rc('font', family='NanumBarunGothic')\n",
        "sns.set(font=\"NanumBarunGothic\", \n",
        "        rc={\"axes.unicode_minus\":False},\n",
        "        style='darkgrid') \n",
        "# 캔버스 사이즈 적용\n",
        "plt.rcParams[\"figure.figsize\"] = (12, 9)"
      ],
      "execution_count": 4,
      "outputs": []
    },
    {
      "cell_type": "code",
      "metadata": {
        "colab": {
          "base_uri": "https://localhost:8080/",
          "height": 419
        },
        "id": "HCmyza7O862G",
        "outputId": "1552559d-57cb-46e3-cafc-197eab60f5e2"
      },
      "source": [
        "company_df"
      ],
      "execution_count": 16,
      "outputs": [
        {
          "output_type": "execute_result",
          "data": {
            "text/html": [
              "<div>\n",
              "<style scoped>\n",
              "    .dataframe tbody tr th:only-of-type {\n",
              "        vertical-align: middle;\n",
              "    }\n",
              "\n",
              "    .dataframe tbody tr th {\n",
              "        vertical-align: top;\n",
              "    }\n",
              "\n",
              "    .dataframe thead th {\n",
              "        text-align: right;\n",
              "    }\n",
              "</style>\n",
              "<table border=\"1\" class=\"dataframe\">\n",
              "  <thead>\n",
              "    <tr style=\"text-align: right;\">\n",
              "      <th></th>\n",
              "      <th>회사ID</th>\n",
              "      <th>연매출액</th>\n",
              "      <th>년도</th>\n",
              "      <th>월</th>\n",
              "      <th>월별_연금보험료</th>\n",
              "      <th>월별_직원수</th>\n",
              "    </tr>\n",
              "  </thead>\n",
              "  <tbody>\n",
              "    <tr>\n",
              "      <th>0</th>\n",
              "      <td>233757</td>\n",
              "      <td>41688077</td>\n",
              "      <td>2018</td>\n",
              "      <td>7</td>\n",
              "      <td>8912380</td>\n",
              "      <td>36</td>\n",
              "    </tr>\n",
              "    <tr>\n",
              "      <th>1</th>\n",
              "      <td>123464</td>\n",
              "      <td>1760695</td>\n",
              "      <td>2018</td>\n",
              "      <td>3</td>\n",
              "      <td>942380</td>\n",
              "      <td>5</td>\n",
              "    </tr>\n",
              "    <tr>\n",
              "      <th>2</th>\n",
              "      <td>342124</td>\n",
              "      <td>3221341</td>\n",
              "      <td>2018</td>\n",
              "      <td>7</td>\n",
              "      <td>781180</td>\n",
              "      <td>4</td>\n",
              "    </tr>\n",
              "    <tr>\n",
              "      <th>3</th>\n",
              "      <td>386420</td>\n",
              "      <td>4815584</td>\n",
              "      <td>2015</td>\n",
              "      <td>11</td>\n",
              "      <td>3795900</td>\n",
              "      <td>14</td>\n",
              "    </tr>\n",
              "    <tr>\n",
              "      <th>4</th>\n",
              "      <td>129243</td>\n",
              "      <td>9799736</td>\n",
              "      <td>2018</td>\n",
              "      <td>10</td>\n",
              "      <td>40724680</td>\n",
              "      <td>151</td>\n",
              "    </tr>\n",
              "    <tr>\n",
              "      <th>...</th>\n",
              "      <td>...</td>\n",
              "      <td>...</td>\n",
              "      <td>...</td>\n",
              "      <td>...</td>\n",
              "      <td>...</td>\n",
              "      <td>...</td>\n",
              "    </tr>\n",
              "    <tr>\n",
              "      <th>99796</th>\n",
              "      <td>171439</td>\n",
              "      <td>4630622</td>\n",
              "      <td>2017</td>\n",
              "      <td>2</td>\n",
              "      <td>2402740</td>\n",
              "      <td>11</td>\n",
              "    </tr>\n",
              "    <tr>\n",
              "      <th>99797</th>\n",
              "      <td>239388</td>\n",
              "      <td>1045021</td>\n",
              "      <td>2018</td>\n",
              "      <td>10</td>\n",
              "      <td>1428800</td>\n",
              "      <td>9</td>\n",
              "    </tr>\n",
              "    <tr>\n",
              "      <th>99798</th>\n",
              "      <td>272304</td>\n",
              "      <td>181898</td>\n",
              "      <td>2018</td>\n",
              "      <td>3</td>\n",
              "      <td>392560</td>\n",
              "      <td>4</td>\n",
              "    </tr>\n",
              "    <tr>\n",
              "      <th>99799</th>\n",
              "      <td>362194</td>\n",
              "      <td>2100218</td>\n",
              "      <td>2018</td>\n",
              "      <td>12</td>\n",
              "      <td>874780</td>\n",
              "      <td>3</td>\n",
              "    </tr>\n",
              "    <tr>\n",
              "      <th>99800</th>\n",
              "      <td>124281</td>\n",
              "      <td>132900</td>\n",
              "      <td>2017</td>\n",
              "      <td>11</td>\n",
              "      <td>291940</td>\n",
              "      <td>5</td>\n",
              "    </tr>\n",
              "  </tbody>\n",
              "</table>\n",
              "<p>99801 rows × 6 columns</p>\n",
              "</div>"
            ],
            "text/plain": [
              "         회사ID      연매출액    년도   월  월별_연금보험료  월별_직원수\n",
              "0      233757  41688077  2018   7   8912380      36\n",
              "1      123464   1760695  2018   3    942380       5\n",
              "2      342124   3221341  2018   7    781180       4\n",
              "3      386420   4815584  2015  11   3795900      14\n",
              "4      129243   9799736  2018  10  40724680     151\n",
              "...       ...       ...   ...  ..       ...     ...\n",
              "99796  171439   4630622  2017   2   2402740      11\n",
              "99797  239388   1045021  2018  10   1428800       9\n",
              "99798  272304    181898  2018   3    392560       4\n",
              "99799  362194   2100218  2018  12    874780       3\n",
              "99800  124281    132900  2017  11    291940       5\n",
              "\n",
              "[99801 rows x 6 columns]"
            ]
          },
          "metadata": {
            "tags": []
          },
          "execution_count": 16
        }
      ]
    },
    {
      "cell_type": "code",
      "metadata": {
        "colab": {
          "base_uri": "https://localhost:8080/"
        },
        "id": "PQ-Dqxekta1i",
        "outputId": "941b4e78-f256-4953-cb3e-cc7ba9f2a997"
      },
      "source": [
        "company_df['년도'].sort_values()"
      ],
      "execution_count": 15,
      "outputs": [
        {
          "output_type": "execute_result",
          "data": {
            "text/plain": [
              "50120    2015\n",
              "61242    2015\n",
              "61226    2015\n",
              "39082    2015\n",
              "90227    2015\n",
              "         ... \n",
              "75986    2019\n",
              "17795    2019\n",
              "78226    2019\n",
              "20316    2019\n",
              "7408     2019\n",
              "Name: 년도, Length: 99801, dtype: int64"
            ]
          },
          "metadata": {
            "tags": []
          },
          "execution_count": 15
        }
      ]
    },
    {
      "cell_type": "code",
      "metadata": {
        "colab": {
          "base_uri": "https://localhost:8080/"
        },
        "id": "u5SUUH8Ttia6",
        "outputId": "6a02749a-2818-4195-f57b-db3ce2c6346f"
      },
      "source": [
        "print(company_df.shape) # 데이터의 행, 열 개수 출력\n",
        "print(company_df.dtypes) # 데이터의 타입 출력"
      ],
      "execution_count": 6,
      "outputs": [
        {
          "output_type": "stream",
          "text": [
            "(99801, 6)\n",
            "회사ID        int64\n",
            "연매출액        int64\n",
            "년도          int64\n",
            "월           int64\n",
            "월별_연금보험료    int64\n",
            "월별_직원수      int64\n",
            "dtype: object\n"
          ],
          "name": "stdout"
        }
      ]
    },
    {
      "cell_type": "code",
      "metadata": {
        "colab": {
          "base_uri": "https://localhost:8080/",
          "height": 49
        },
        "id": "pSUnbw7ouFGh",
        "outputId": "813fc816-e456-4d09-a33e-8a6eeccbbf7e"
      },
      "source": [
        "company_df[company_df.duplicated(keep=False)] # 중복된 열 출력 --> 없음"
      ],
      "execution_count": 7,
      "outputs": [
        {
          "output_type": "execute_result",
          "data": {
            "text/html": [
              "<div>\n",
              "<style scoped>\n",
              "    .dataframe tbody tr th:only-of-type {\n",
              "        vertical-align: middle;\n",
              "    }\n",
              "\n",
              "    .dataframe tbody tr th {\n",
              "        vertical-align: top;\n",
              "    }\n",
              "\n",
              "    .dataframe thead th {\n",
              "        text-align: right;\n",
              "    }\n",
              "</style>\n",
              "<table border=\"1\" class=\"dataframe\">\n",
              "  <thead>\n",
              "    <tr style=\"text-align: right;\">\n",
              "      <th></th>\n",
              "      <th>회사ID</th>\n",
              "      <th>연매출액</th>\n",
              "      <th>년도</th>\n",
              "      <th>월</th>\n",
              "      <th>월별_연금보험료</th>\n",
              "      <th>월별_직원수</th>\n",
              "    </tr>\n",
              "  </thead>\n",
              "  <tbody>\n",
              "  </tbody>\n",
              "</table>\n",
              "</div>"
            ],
            "text/plain": [
              "Empty DataFrame\n",
              "Columns: [회사ID, 연매출액, 년도, 월, 월별_연금보험료, 월별_직원수]\n",
              "Index: []"
            ]
          },
          "metadata": {
            "tags": []
          },
          "execution_count": 7
        }
      ]
    },
    {
      "cell_type": "code",
      "metadata": {
        "colab": {
          "base_uri": "https://localhost:8080/"
        },
        "id": "VB3bbAervQzw",
        "outputId": "b7fc75fa-46c2-4b80-c2fc-4d7b2cfd4829"
      },
      "source": [
        "company_df.isna().sum() # 컬럼별 NaN값 출력 --> NaN값 없음"
      ],
      "execution_count": 8,
      "outputs": [
        {
          "output_type": "execute_result",
          "data": {
            "text/plain": [
              "회사ID        0\n",
              "연매출액        0\n",
              "년도          0\n",
              "월           0\n",
              "월별_연금보험료    0\n",
              "월별_직원수      0\n",
              "dtype: int64"
            ]
          },
          "metadata": {
            "tags": []
          },
          "execution_count": 8
        }
      ]
    },
    {
      "cell_type": "code",
      "metadata": {
        "colab": {
          "base_uri": "https://localhost:8080/",
          "height": 297
        },
        "id": "k97GQcsYvSlR",
        "outputId": "52cca752-46b6-4648-8a85-980e4cf5a5fd"
      },
      "source": [
        "company_df.describe() # 컬럼별 요약 통계 지표 출력"
      ],
      "execution_count": 9,
      "outputs": [
        {
          "output_type": "execute_result",
          "data": {
            "text/html": [
              "<div>\n",
              "<style scoped>\n",
              "    .dataframe tbody tr th:only-of-type {\n",
              "        vertical-align: middle;\n",
              "    }\n",
              "\n",
              "    .dataframe tbody tr th {\n",
              "        vertical-align: top;\n",
              "    }\n",
              "\n",
              "    .dataframe thead th {\n",
              "        text-align: right;\n",
              "    }\n",
              "</style>\n",
              "<table border=\"1\" class=\"dataframe\">\n",
              "  <thead>\n",
              "    <tr style=\"text-align: right;\">\n",
              "      <th></th>\n",
              "      <th>회사ID</th>\n",
              "      <th>연매출액</th>\n",
              "      <th>년도</th>\n",
              "      <th>월</th>\n",
              "      <th>월별_연금보험료</th>\n",
              "      <th>월별_직원수</th>\n",
              "    </tr>\n",
              "  </thead>\n",
              "  <tbody>\n",
              "    <tr>\n",
              "      <th>count</th>\n",
              "      <td>9.980100e+04</td>\n",
              "      <td>9.980100e+04</td>\n",
              "      <td>99801.000000</td>\n",
              "      <td>99801.000000</td>\n",
              "      <td>9.980100e+04</td>\n",
              "      <td>99801.000000</td>\n",
              "    </tr>\n",
              "    <tr>\n",
              "      <th>mean</th>\n",
              "      <td>2.762982e+05</td>\n",
              "      <td>3.053589e+07</td>\n",
              "      <td>2016.967125</td>\n",
              "      <td>6.714352</td>\n",
              "      <td>9.734079e+06</td>\n",
              "      <td>37.623431</td>\n",
              "    </tr>\n",
              "    <tr>\n",
              "      <th>std</th>\n",
              "      <td>1.339032e+05</td>\n",
              "      <td>3.016647e+08</td>\n",
              "      <td>0.976688</td>\n",
              "      <td>3.512966</td>\n",
              "      <td>4.347256e+07</td>\n",
              "      <td>146.947194</td>\n",
              "    </tr>\n",
              "    <tr>\n",
              "      <th>min</th>\n",
              "      <td>6.300000e+01</td>\n",
              "      <td>-7.882176e+06</td>\n",
              "      <td>2015.000000</td>\n",
              "      <td>1.000000</td>\n",
              "      <td>0.000000e+00</td>\n",
              "      <td>0.000000</td>\n",
              "    </tr>\n",
              "    <tr>\n",
              "      <th>25%</th>\n",
              "      <td>1.655300e+05</td>\n",
              "      <td>1.409760e+06</td>\n",
              "      <td>2016.000000</td>\n",
              "      <td>4.000000</td>\n",
              "      <td>1.181160e+06</td>\n",
              "      <td>6.000000</td>\n",
              "    </tr>\n",
              "    <tr>\n",
              "      <th>50%</th>\n",
              "      <td>2.591490e+05</td>\n",
              "      <td>3.573585e+06</td>\n",
              "      <td>2017.000000</td>\n",
              "      <td>7.000000</td>\n",
              "      <td>2.332760e+06</td>\n",
              "      <td>11.000000</td>\n",
              "    </tr>\n",
              "    <tr>\n",
              "      <th>75%</th>\n",
              "      <td>3.826560e+05</td>\n",
              "      <td>9.582321e+06</td>\n",
              "      <td>2018.000000</td>\n",
              "      <td>10.000000</td>\n",
              "      <td>5.591860e+06</td>\n",
              "      <td>24.000000</td>\n",
              "    </tr>\n",
              "    <tr>\n",
              "      <th>max</th>\n",
              "      <td>5.159723e+06</td>\n",
              "      <td>1.132878e+10</td>\n",
              "      <td>2019.000000</td>\n",
              "      <td>12.000000</td>\n",
              "      <td>9.780673e+08</td>\n",
              "      <td>3133.000000</td>\n",
              "    </tr>\n",
              "  </tbody>\n",
              "</table>\n",
              "</div>"
            ],
            "text/plain": [
              "               회사ID          연매출액  ...      월별_연금보험료        월별_직원수\n",
              "count  9.980100e+04  9.980100e+04  ...  9.980100e+04  99801.000000\n",
              "mean   2.762982e+05  3.053589e+07  ...  9.734079e+06     37.623431\n",
              "std    1.339032e+05  3.016647e+08  ...  4.347256e+07    146.947194\n",
              "min    6.300000e+01 -7.882176e+06  ...  0.000000e+00      0.000000\n",
              "25%    1.655300e+05  1.409760e+06  ...  1.181160e+06      6.000000\n",
              "50%    2.591490e+05  3.573585e+06  ...  2.332760e+06     11.000000\n",
              "75%    3.826560e+05  9.582321e+06  ...  5.591860e+06     24.000000\n",
              "max    5.159723e+06  1.132878e+10  ...  9.780673e+08   3133.000000\n",
              "\n",
              "[8 rows x 6 columns]"
            ]
          },
          "metadata": {
            "tags": []
          },
          "execution_count": 9
        }
      ]
    },
    {
      "cell_type": "code",
      "metadata": {
        "colab": {
          "base_uri": "https://localhost:8080/",
          "height": 235
        },
        "id": "YAXTfAstwLnY",
        "outputId": "08f461de-9564-4b0b-ea50-c313adf9d521"
      },
      "source": [
        "company_df.corr() # 회사 상관관계 1에 가까울수록 연관성이 아주 크다는 의미"
      ],
      "execution_count": 10,
      "outputs": [
        {
          "output_type": "execute_result",
          "data": {
            "text/html": [
              "<div>\n",
              "<style scoped>\n",
              "    .dataframe tbody tr th:only-of-type {\n",
              "        vertical-align: middle;\n",
              "    }\n",
              "\n",
              "    .dataframe tbody tr th {\n",
              "        vertical-align: top;\n",
              "    }\n",
              "\n",
              "    .dataframe thead th {\n",
              "        text-align: right;\n",
              "    }\n",
              "</style>\n",
              "<table border=\"1\" class=\"dataframe\">\n",
              "  <thead>\n",
              "    <tr style=\"text-align: right;\">\n",
              "      <th></th>\n",
              "      <th>회사ID</th>\n",
              "      <th>연매출액</th>\n",
              "      <th>년도</th>\n",
              "      <th>월</th>\n",
              "      <th>월별_연금보험료</th>\n",
              "      <th>월별_직원수</th>\n",
              "    </tr>\n",
              "  </thead>\n",
              "  <tbody>\n",
              "    <tr>\n",
              "      <th>회사ID</th>\n",
              "      <td>1.000000</td>\n",
              "      <td>-0.001675</td>\n",
              "      <td>-0.033194</td>\n",
              "      <td>0.008969</td>\n",
              "      <td>-0.010393</td>\n",
              "      <td>0.007430</td>\n",
              "    </tr>\n",
              "    <tr>\n",
              "      <th>연매출액</th>\n",
              "      <td>-0.001675</td>\n",
              "      <td>1.000000</td>\n",
              "      <td>0.015202</td>\n",
              "      <td>-0.001347</td>\n",
              "      <td>0.729694</td>\n",
              "      <td>0.638125</td>\n",
              "    </tr>\n",
              "    <tr>\n",
              "      <th>년도</th>\n",
              "      <td>-0.033194</td>\n",
              "      <td>0.015202</td>\n",
              "      <td>1.000000</td>\n",
              "      <td>-0.096107</td>\n",
              "      <td>0.008121</td>\n",
              "      <td>-0.002206</td>\n",
              "    </tr>\n",
              "    <tr>\n",
              "      <th>월</th>\n",
              "      <td>0.008969</td>\n",
              "      <td>-0.001347</td>\n",
              "      <td>-0.096107</td>\n",
              "      <td>1.000000</td>\n",
              "      <td>0.005006</td>\n",
              "      <td>0.002000</td>\n",
              "    </tr>\n",
              "    <tr>\n",
              "      <th>월별_연금보험료</th>\n",
              "      <td>-0.010393</td>\n",
              "      <td>0.729694</td>\n",
              "      <td>0.008121</td>\n",
              "      <td>0.005006</td>\n",
              "      <td>1.000000</td>\n",
              "      <td>0.962101</td>\n",
              "    </tr>\n",
              "    <tr>\n",
              "      <th>월별_직원수</th>\n",
              "      <td>0.007430</td>\n",
              "      <td>0.638125</td>\n",
              "      <td>-0.002206</td>\n",
              "      <td>0.002000</td>\n",
              "      <td>0.962101</td>\n",
              "      <td>1.000000</td>\n",
              "    </tr>\n",
              "  </tbody>\n",
              "</table>\n",
              "</div>"
            ],
            "text/plain": [
              "              회사ID      연매출액        년도         월  월별_연금보험료    월별_직원수\n",
              "회사ID      1.000000 -0.001675 -0.033194  0.008969 -0.010393  0.007430\n",
              "연매출액     -0.001675  1.000000  0.015202 -0.001347  0.729694  0.638125\n",
              "년도       -0.033194  0.015202  1.000000 -0.096107  0.008121 -0.002206\n",
              "월         0.008969 -0.001347 -0.096107  1.000000  0.005006  0.002000\n",
              "월별_연금보험료 -0.010393  0.729694  0.008121  0.005006  1.000000  0.962101\n",
              "월별_직원수    0.007430  0.638125 -0.002206  0.002000  0.962101  1.000000"
            ]
          },
          "metadata": {
            "tags": []
          },
          "execution_count": 10
        }
      ]
    },
    {
      "cell_type": "code",
      "metadata": {
        "colab": {
          "base_uri": "https://localhost:8080/",
          "height": 563
        },
        "id": "81vcRVRFx40x",
        "outputId": "7fdf7f28-fa54-4e38-930b-d8ac47c0cf5c"
      },
      "source": [
        "sns.heatmap(company_df.corr(), annot=True)\n",
        "# 연매출액과 연금보험료, 월별 직원수 상관관계임"
      ],
      "execution_count": 11,
      "outputs": [
        {
          "output_type": "execute_result",
          "data": {
            "text/plain": [
              "<matplotlib.axes._subplots.AxesSubplot at 0x7fe737fd9750>"
            ]
          },
          "metadata": {
            "tags": []
          },
          "execution_count": 11
        },
        {
          "output_type": "display_data",
          "data": {
            "image/png": "[encoded data removed]",
            "text/plain": [
              "<Figure size 864x648 with 2 Axes>"
            ]
          },
          "metadata": {
            "tags": []
          }
        }
      ]
    },
    {
      "cell_type": "markdown",
      "metadata": {
        "id": "PgQ6Vq3I6UEf"
      },
      "source": [
        "#개인적인 전처리 방향\n",
        "\n",
        "\n",
        "1. 연매출액이 1조 이상 유니콘기업과 1000억이상 예비유니콘분류\n",
        "2. 3년 평균 20%이상 성장율인 기업 분류\n",
        "3. 직원수 기준을 통해 분류\n",
        "\n",
        "\n",
        "\n",
        "\n",
        "\n",
        "\n"
      ]
    },
    {
      "cell_type": "code",
      "metadata": {
        "id": "3NjtSEjs7inl"
      },
      "source": [
        ""
      ],
      "execution_count": null,
      "outputs": []
    },
    {
      "cell_type": "code",
      "metadata": {
        "id": "aQDaSscmyUt4"
      },
      "source": [
        ""
      ],
      "execution_count": null,
      "outputs": []
    }
  ]
}